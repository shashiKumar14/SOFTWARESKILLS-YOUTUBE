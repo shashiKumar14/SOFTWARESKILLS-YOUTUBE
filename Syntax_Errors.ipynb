{
  "nbformat": 4,
  "nbformat_minor": 0,
  "metadata": {
    "colab": {
      "provenance": [],
      "authorship_tag": "ABX9TyMMNJuGVFjWvtJQfgPIX/m2",
      "include_colab_link": true
    },
    "kernelspec": {
      "name": "python3",
      "display_name": "Python 3"
    },
    "language_info": {
      "name": "python"
    }
  },
  "cells": [
    {
      "cell_type": "markdown",
      "metadata": {
        "id": "view-in-github",
        "colab_type": "text"
      },
      "source": [
        "<a href=\"https://colab.research.google.com/github/shashiKumar14/SOFTWARESKILLS-YOUTUBE/blob/main/Syntax_Errors.ipynb\" target=\"_parent\"><img src=\"https://colab.research.google.com/assets/colab-badge.svg\" alt=\"Open In Colab\"/></a>"
      ]
    },
    {
      "cell_type": "code",
      "execution_count": 17,
      "metadata": {
        "colab": {
          "base_uri": "https://localhost:8080/",
          "height": 52
        },
        "id": "DhQiyQrSE0zi",
        "outputId": "01b2ed0b-df04-4691-8b83-62a8c50a8cac"
      },
      "outputs": [
        {
          "output_type": "execute_result",
          "data": {
            "text/plain": [
              "\" Syntax errors in Python occur when you write code that doesn't conform to the language's rules and structure.\\nThey prevent the code from running until you correct the errors. Here are some common examples of syntax errors in Python:\""
            ],
            "application/vnd.google.colaboratory.intrinsic+json": {
              "type": "string"
            }
          },
          "metadata": {},
          "execution_count": 17
        }
      ],
      "source": [
        "''' Syntax errors in Python occur when you write code that doesn't conform to the language's rules and structure.\n",
        "They prevent the code from running until you correct the errors. Here are some common examples of syntax errors in Python:'''"
      ]
    },
    {
      "cell_type": "code",
      "source": [
        "#1.Missing Parentheses:\n",
        "print(\"Hello, World\")\n"
      ],
      "metadata": {
        "colab": {
          "base_uri": "https://localhost:8080/"
        },
        "id": "Zes8vhnmFGsX",
        "outputId": "b0267ba4-ba99-45dd-f560-49adaba877a1"
      },
      "execution_count": 25,
      "outputs": [
        {
          "output_type": "stream",
          "name": "stdout",
          "text": [
            "Hello, World\n"
          ]
        }
      ]
    },
    {
      "cell_type": "code",
      "source": [
        "#2.Missing Colon in Indented Block:\n",
        "x=6\n",
        "if x > 5:\n",
        "    print(\"x is greater than 5\")\n"
      ],
      "metadata": {
        "colab": {
          "base_uri": "https://localhost:8080/"
        },
        "id": "s51CrSfpFT2T",
        "outputId": "ee6502b3-2658-4c2b-bb86-47436fb788d5"
      },
      "execution_count": 29,
      "outputs": [
        {
          "output_type": "stream",
          "name": "stdout",
          "text": [
            "x is greater than 5\n"
          ]
        }
      ]
    },
    {
      "cell_type": "code",
      "source": [
        "#3.Mismatched Quotes:\n",
        "print(\"Hello, World\")\n"
      ],
      "metadata": {
        "colab": {
          "base_uri": "https://localhost:8080/"
        },
        "id": "xrGESf0CFT40",
        "outputId": "1bd0bfee-af24-4794-ca99-4a05ef0e7867"
      },
      "execution_count": 31,
      "outputs": [
        {
          "output_type": "stream",
          "name": "stdout",
          "text": [
            "Hello, World\n"
          ]
        }
      ]
    },
    {
      "cell_type": "code",
      "source": [
        "#4.Unmatched Braces or Parentheses:\n",
        "myList = [1, 2, 3]\n"
      ],
      "metadata": {
        "id": "M0B3VK0SFT9R"
      },
      "execution_count": 33,
      "outputs": []
    },
    {
      "cell_type": "code",
      "source": [
        "#5.Using Reserved Words:\n",
        "class_1 = \"MyClass\"\n"
      ],
      "metadata": {
        "id": "kup8dutJFUBw"
      },
      "execution_count": 35,
      "outputs": []
    },
    {
      "cell_type": "code",
      "source": [
        "#6.Unclosed Strings or Comments:\n",
        "message = \"This string is not closed\"\n"
      ],
      "metadata": {
        "id": "fEiyyqVAFUIx"
      },
      "execution_count": 37,
      "outputs": []
    },
    {
      "cell_type": "code",
      "source": [],
      "metadata": {
        "id": "6Qjej9i3KjdN"
      },
      "execution_count": null,
      "outputs": []
    }
  ]
}